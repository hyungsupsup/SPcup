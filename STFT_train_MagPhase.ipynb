{
 "cells": [
  {
   "cell_type": "code",
   "execution_count": 1,
   "metadata": {},
   "outputs": [],
   "source": [
    "%matplotlib inline\n",
    "import matplotlib.pyplot as plt\n",
    "import os\n",
    "from scipy.io import wavfile\n",
    "from collections import defaultdict, Counter\n",
    "from scipy import signal\n",
    "import numpy as np\n",
    "import librosa\n",
    "import random as rn\n",
    "from keras.layers import Dense\n",
    "from keras import Input\n",
    "#from keras.engine import Model\n",
    "from keras.layers import Dense, TimeDistributed, Dropout, Bidirectional, GRU, BatchNormalization, Activation, LeakyReLU, LSTM, Flatten, RepeatVector, Permute, Multiply, Conv2D, MaxPooling2D\n",
    "import librosa\n",
    "import pandas as pd\n",
    "import numpy as np\n",
    "import matplotlib.pyplot as plt\n",
    "%matplotlib inline\n",
    "import os\n",
    "from PIL import Image\n",
    "import pathlib\n",
    "import csv \n",
    "from sklearn.model_selection import train_test_split\n",
    "from sklearn.preprocessing import LabelEncoder, StandardScaler\n",
    "import keras\n",
    "from keras import layers\n",
    "from sklearn.preprocessing import MinMaxScaler"
   ]
  },
  {
   "cell_type": "code",
   "execution_count": 2,
   "metadata": {},
   "outputs": [],
   "source": [
    "data_dir = 'C:/Users/USER/Desktop/spcup_2022/audiofile/'"
   ]
  },
  {
   "cell_type": "code",
   "execution_count": 46,
   "metadata": {},
   "outputs": [
    {
     "name": "stdout",
     "output_type": "stream",
     "text": [
      "(5000, 257, 42)\n",
      "(5000, 257, 42)\n",
      "(5000, 5)\n"
     ]
    }
   ],
   "source": [
    "X_mag = []\n",
    "X_phase = []\n",
    "Y = []\n",
    "X_shape_list = []\n",
    "categories = [\"0\",\"1\",\"2\",\"3\",\"4\"]\n",
    "num_classes = len(categories)\n",
    "\n",
    "\n",
    "for filename in os.listdir(f'C:/Users/USER/Desktop/spcup_2022/audiofile/'):\n",
    "    audioname = f'C:/Users/USER/Desktop/spcup_2022/audiofile/{filename}'\n",
    "    y, sr = librosa.load(audioname, duration=1, sr = 16000)  # 모두 1초까지만 자름\n",
    "    stft = librosa.stft(y, n_fft=512, hop_length=384)  # 일반적으로 1/4 가량 겹치게 함\n",
    "    # phase, mag 추출\n",
    "    magnitude, phase = librosa.magphase(stft)\n",
    "    # radian값으로 변환\n",
    "    phase = np.angle(phase)\n",
    "    # normalization_magnitude\n",
    "    scaler = StandardScaler()\n",
    "    scaler.fit(magnitude)\n",
    "    magnitude = scaler.transform(magnitude)\n",
    "    # normalization_phase\n",
    "    scaler = StandardScaler()\n",
    "    scaler.fit(phase)\n",
    "    phase = scaler.transform(phase)\n",
    "    \n",
    "    X_mag.append(magnitude)\n",
    "    X_phase.append(phase)\n",
    "    \n",
    "\n",
    "for idex, category in enumerate(categories):\n",
    "    label = [0 for i in range(num_classes)]\n",
    "    label[idex] = 1\n",
    "    for j in range(1000):\n",
    "        Y.append(label)\n",
    "\n",
    "X_mag = np.array(X_mag)\n",
    "X_phase = np.array(X_phase)\n",
    "Y = np.array(Y)\n",
    "print(X_mag.shape)\n",
    "print(X_phase.shape)\n",
    "print(Y.shape)"
   ]
  },
  {
   "cell_type": "code",
   "execution_count": null,
   "metadata": {},
   "outputs": [],
   "source": [
    "X[0].shape, X[1].shape, X[318].shape"
   ]
  },
  {
   "cell_type": "code",
   "execution_count": 47,
   "metadata": {},
   "outputs": [
    {
     "name": "stdout",
     "output_type": "stream",
     "text": [
      "X_mag\n",
      "(4000, 257, 42)\n",
      "(1000, 257, 42)\n",
      "(4000, 5)\n",
      "(1000, 5)\n",
      "X_phase\n",
      "(4000, 257, 42)\n",
      "(1000, 257, 42)\n",
      "(4000, 5)\n",
      "(1000, 5)\n"
     ]
    }
   ],
   "source": [
    "X_mag_train = np.concatenate((X_mag[0:800],X_mag[1000:1800],X_mag[2000:2800],X_mag[3000:3800],X_mag[4000:4800]), axis = 0)\n",
    "X_mag_test = np.concatenate((X_mag[800:1000],X_mag[1800:2000],X_mag[2800:3000],X_mag[3800:4000],X_mag[4800:5000]), axis = 0)\n",
    "Y_mag_train = np.concatenate((Y[0:800],Y[1000:1800],Y[2000:2800],Y[3000:3800],Y[4000:4800]), axis = 0)\n",
    "Y_mag_test = np.concatenate((Y[800:1000],Y[1800:2000],Y[2800:3000],Y[3800:4000],Y[4800:5000]), axis = 0)\n",
    "\n",
    "X_phase_train = np.concatenate((X_phase[0:800],X_phase[1000:1800],X_phase[2000:2800],X_phase[3000:3800],X_phase[4000:4800]), axis = 0)\n",
    "X_phase_test = np.concatenate((X_phase[800:1000],X_phase[1800:2000],X_phase[2800:3000],X_phase[3800:4000],X_phase[4800:5000]), axis = 0)\n",
    "Y_phase_train = np.concatenate((Y[0:800],Y[1000:1800],Y[2000:2800],Y[3000:3800],Y[4000:4800]), axis = 0)\n",
    "Y_phase_test = np.concatenate((Y[800:1000],Y[1800:2000],Y[2800:3000],Y[3800:4000],Y[4800:5000]), axis = 0)\n",
    "\n",
    "print('X_mag')\n",
    "print(X_mag_train.shape)\n",
    "print(X_mag_test.shape)\n",
    "print(Y_mag_train.shape)\n",
    "print(Y_mag_test.shape)\n",
    "print('X_phase')\n",
    "print(X_phase_train.shape)\n",
    "print(X_phase_test.shape)\n",
    "print(Y_phase_train.shape)\n",
    "print(Y_phase_test.shape)"
   ]
  },
  {
   "cell_type": "code",
   "execution_count": 48,
   "metadata": {},
   "outputs": [],
   "source": [
    "# CNN 모델에 들어가려면 4차원으로 바꿔줘야함\n",
    "X_mag_train = X_mag_train.reshape(-1,257,42,1)\n",
    "X_mag_test = X_mag_test.reshape(-1,257,42,1)\n",
    "\n",
    "X_phase_train = X_phase_train.reshape(-1,257,42,1)\n",
    "X_phase_test = X_phase_test.reshape(-1,257,42,1)"
   ]
  },
  {
   "cell_type": "code",
   "execution_count": 49,
   "metadata": {},
   "outputs": [],
   "source": [
    "from keras.models import Sequential\n",
    "from keras.layers import Flatten, Conv2D, MaxPooling2D"
   ]
  },
  {
   "cell_type": "code",
   "execution_count": 50,
   "metadata": {},
   "outputs": [],
   "source": [
    "#93% 모델\n",
    "model_mag = Sequential()\n",
    "model_mag.add(layers.Conv2D(64, (3, 3), activation='relu', input_shape=(257, 42, 1)))\n",
    "model_mag.add(layers.MaxPooling2D((2, 2)))\n",
    "model_mag.add(layers.Dense(32, activation='relu'))\n",
    "model_mag.add(Flatten())\n",
    "model_mag.add(layers.Dense(32, activation='relu'))\n",
    "model_mag.add(layers.Dense(5, activation='softmax'))\n",
    "\n",
    "\n",
    "model_phase = Sequential()\n",
    "model_phase.add(layers.Conv2D(64, (3, 3), activation='relu', input_shape=(257, 42, 1)))\n",
    "model_phase.add(layers.MaxPooling2D((2, 2)))\n",
    "model_phase.add(layers.Dense(32, activation='relu'))\n",
    "model_phase.add(Flatten())\n",
    "model_phase.add(layers.Dense(32, activation='relu'))\n",
    "model_phase.add(layers.Dense(5, activation='softmax'))\n"
   ]
  },
  {
   "cell_type": "code",
   "execution_count": 23,
   "metadata": {},
   "outputs": [],
   "source": [
    "model_phase = Sequential()\n",
    "model_phase.add(layers.Conv2D(64, (3, 3), activation='relu', input_shape=(257, 42, 1)))\n",
    "model_phase.add(layers.MaxPooling2D((2, 2)))\n",
    "model_phase.add(layers.Dense(32, activation='relu'))\n",
    "model_phase.add(Flatten())\n",
    "model_phase.add(layers.Dense(32, activation='relu'))\n",
    "model_phase.add(layers.Dense(5, activation='softmax'))"
   ]
  },
  {
   "cell_type": "code",
   "execution_count": 37,
   "metadata": {},
   "outputs": [],
   "source": [
    "# 모델 컴파일\n",
    "early_stopping = EarlyStopping(monitor = 'val_loss', min_delta = 0, patience = 3, mode = 'auto',restore_best_weights=True)\n",
    "model_mag.compile(optimizer='adam',\n",
    "              loss='categorical_crossentropy',\n",
    "              metrics=['accuracy'],\n",
    "              early_stopping=)"
   ]
  },
  {
   "cell_type": "code",
   "execution_count": 24,
   "metadata": {},
   "outputs": [],
   "source": [
    "model_phase.compile(optimizer='adam',\n",
    "              loss='categorical_crossentropy',\n",
    "              metrics=['accuracy'])"
   ]
  },
  {
   "cell_type": "code",
   "execution_count": 38,
   "metadata": {},
   "outputs": [
    {
     "name": "stdout",
     "output_type": "stream",
     "text": [
      "Epoch 1/10\n"
     ]
    },
    {
     "ename": "ValueError",
     "evalue": "in user code:\n\n    File \"C:\\Users\\USER\\anaconda3\\lib\\site-packages\\keras\\engine\\training.py\", line 878, in train_function  *\n        return step_function(self, iterator)\n    File \"C:\\Users\\USER\\anaconda3\\lib\\site-packages\\keras\\engine\\training.py\", line 867, in step_function  **\n        outputs = model.distribute_strategy.run(run_step, args=(data,))\n    File \"C:\\Users\\USER\\anaconda3\\lib\\site-packages\\keras\\engine\\training.py\", line 860, in run_step  **\n        outputs = model.train_step(data)\n    File \"C:\\Users\\USER\\anaconda3\\lib\\site-packages\\keras\\engine\\training.py\", line 817, in train_step\n        self.compiled_metrics.update_state(y, y_pred, sample_weight)\n    File \"C:\\Users\\USER\\anaconda3\\lib\\site-packages\\keras\\engine\\compile_utils.py\", line 439, in update_state\n        self.build(y_pred, y_true)\n    File \"C:\\Users\\USER\\anaconda3\\lib\\site-packages\\keras\\engine\\compile_utils.py\", line 359, in build\n        self._metrics = tf.__internal__.nest.map_structure_up_to(y_pred, self._get_metric_objects,\n    File \"C:\\Users\\USER\\anaconda3\\lib\\site-packages\\keras\\engine\\compile_utils.py\", line 485, in _get_metric_objects\n        return [self._get_metric_object(m, y_t, y_p) for m in metrics]\n    File \"C:\\Users\\USER\\anaconda3\\lib\\site-packages\\keras\\engine\\compile_utils.py\", line 485, in <listcomp>\n        return [self._get_metric_object(m, y_t, y_p) for m in metrics]\n    File \"C:\\Users\\USER\\anaconda3\\lib\\site-packages\\keras\\engine\\compile_utils.py\", line 504, in _get_metric_object\n        metric_obj = metrics_mod.get(metric)\n    File \"C:\\Users\\USER\\anaconda3\\lib\\site-packages\\keras\\metrics.py\", line 3785, in get\n        return deserialize(str(identifier))\n    File \"C:\\Users\\USER\\anaconda3\\lib\\site-packages\\keras\\metrics.py\", line 3741, in deserialize\n        return deserialize_keras_object(\n    File \"C:\\Users\\USER\\anaconda3\\lib\\site-packages\\keras\\utils\\generic_utils.py\", line 708, in deserialize_keras_object\n        raise ValueError(\n\n    ValueError: Unknown metric function: val_acc. Please ensure this object is passed to the `custom_objects` argument. See https://www.tensorflow.org/guide/keras/save_and_serialize#registering_the_custom_object for details.\n",
     "output_type": "error",
     "traceback": [
      "\u001b[1;31m---------------------------------------------------------------------------\u001b[0m",
      "\u001b[1;31mValueError\u001b[0m                                Traceback (most recent call last)",
      "\u001b[1;32m<ipython-input-38-88c4acb5ed6e>\u001b[0m in \u001b[0;36m<module>\u001b[1;34m\u001b[0m\n\u001b[1;32m----> 1\u001b[1;33m classifier_mag = model_mag.fit(X_mag_train,\n\u001b[0m\u001b[0;32m      2\u001b[0m                     \u001b[0mY_mag_train\u001b[0m\u001b[1;33m,\u001b[0m\u001b[1;33m\u001b[0m\u001b[1;33m\u001b[0m\u001b[0m\n\u001b[0;32m      3\u001b[0m                     \u001b[0mepochs\u001b[0m\u001b[1;33m=\u001b[0m\u001b[1;36m10\u001b[0m\u001b[1;33m,\u001b[0m\u001b[1;33m\u001b[0m\u001b[1;33m\u001b[0m\u001b[0m\n\u001b[0;32m      4\u001b[0m                     \u001b[0mbatch_size\u001b[0m\u001b[1;33m=\u001b[0m\u001b[1;36m64\u001b[0m\u001b[1;33m,\u001b[0m\u001b[1;33m\u001b[0m\u001b[1;33m\u001b[0m\u001b[0m\n\u001b[0;32m      5\u001b[0m                     validation_split = 0.2)\n",
      "\u001b[1;32m~\\anaconda3\\lib\\site-packages\\keras\\utils\\traceback_utils.py\u001b[0m in \u001b[0;36merror_handler\u001b[1;34m(*args, **kwargs)\u001b[0m\n\u001b[0;32m     65\u001b[0m     \u001b[1;32mexcept\u001b[0m \u001b[0mException\u001b[0m \u001b[1;32mas\u001b[0m \u001b[0me\u001b[0m\u001b[1;33m:\u001b[0m  \u001b[1;31m# pylint: disable=broad-except\u001b[0m\u001b[1;33m\u001b[0m\u001b[1;33m\u001b[0m\u001b[0m\n\u001b[0;32m     66\u001b[0m       \u001b[0mfiltered_tb\u001b[0m \u001b[1;33m=\u001b[0m \u001b[0m_process_traceback_frames\u001b[0m\u001b[1;33m(\u001b[0m\u001b[0me\u001b[0m\u001b[1;33m.\u001b[0m\u001b[0m__traceback__\u001b[0m\u001b[1;33m)\u001b[0m\u001b[1;33m\u001b[0m\u001b[1;33m\u001b[0m\u001b[0m\n\u001b[1;32m---> 67\u001b[1;33m       \u001b[1;32mraise\u001b[0m \u001b[0me\u001b[0m\u001b[1;33m.\u001b[0m\u001b[0mwith_traceback\u001b[0m\u001b[1;33m(\u001b[0m\u001b[0mfiltered_tb\u001b[0m\u001b[1;33m)\u001b[0m \u001b[1;32mfrom\u001b[0m \u001b[1;32mNone\u001b[0m\u001b[1;33m\u001b[0m\u001b[1;33m\u001b[0m\u001b[0m\n\u001b[0m\u001b[0;32m     68\u001b[0m     \u001b[1;32mfinally\u001b[0m\u001b[1;33m:\u001b[0m\u001b[1;33m\u001b[0m\u001b[1;33m\u001b[0m\u001b[0m\n\u001b[0;32m     69\u001b[0m       \u001b[1;32mdel\u001b[0m \u001b[0mfiltered_tb\u001b[0m\u001b[1;33m\u001b[0m\u001b[1;33m\u001b[0m\u001b[0m\n",
      "\u001b[1;32m~\\anaconda3\\lib\\site-packages\\tensorflow\\python\\framework\\func_graph.py\u001b[0m in \u001b[0;36mautograph_handler\u001b[1;34m(*args, **kwargs)\u001b[0m\n\u001b[0;32m   1127\u001b[0m           \u001b[1;32mexcept\u001b[0m \u001b[0mException\u001b[0m \u001b[1;32mas\u001b[0m \u001b[0me\u001b[0m\u001b[1;33m:\u001b[0m  \u001b[1;31m# pylint:disable=broad-except\u001b[0m\u001b[1;33m\u001b[0m\u001b[1;33m\u001b[0m\u001b[0m\n\u001b[0;32m   1128\u001b[0m             \u001b[1;32mif\u001b[0m \u001b[0mhasattr\u001b[0m\u001b[1;33m(\u001b[0m\u001b[0me\u001b[0m\u001b[1;33m,\u001b[0m \u001b[1;34m\"ag_error_metadata\"\u001b[0m\u001b[1;33m)\u001b[0m\u001b[1;33m:\u001b[0m\u001b[1;33m\u001b[0m\u001b[1;33m\u001b[0m\u001b[0m\n\u001b[1;32m-> 1129\u001b[1;33m               \u001b[1;32mraise\u001b[0m \u001b[0me\u001b[0m\u001b[1;33m.\u001b[0m\u001b[0mag_error_metadata\u001b[0m\u001b[1;33m.\u001b[0m\u001b[0mto_exception\u001b[0m\u001b[1;33m(\u001b[0m\u001b[0me\u001b[0m\u001b[1;33m)\u001b[0m\u001b[1;33m\u001b[0m\u001b[1;33m\u001b[0m\u001b[0m\n\u001b[0m\u001b[0;32m   1130\u001b[0m             \u001b[1;32melse\u001b[0m\u001b[1;33m:\u001b[0m\u001b[1;33m\u001b[0m\u001b[1;33m\u001b[0m\u001b[0m\n\u001b[0;32m   1131\u001b[0m               \u001b[1;32mraise\u001b[0m\u001b[1;33m\u001b[0m\u001b[1;33m\u001b[0m\u001b[0m\n",
      "\u001b[1;31mValueError\u001b[0m: in user code:\n\n    File \"C:\\Users\\USER\\anaconda3\\lib\\site-packages\\keras\\engine\\training.py\", line 878, in train_function  *\n        return step_function(self, iterator)\n    File \"C:\\Users\\USER\\anaconda3\\lib\\site-packages\\keras\\engine\\training.py\", line 867, in step_function  **\n        outputs = model.distribute_strategy.run(run_step, args=(data,))\n    File \"C:\\Users\\USER\\anaconda3\\lib\\site-packages\\keras\\engine\\training.py\", line 860, in run_step  **\n        outputs = model.train_step(data)\n    File \"C:\\Users\\USER\\anaconda3\\lib\\site-packages\\keras\\engine\\training.py\", line 817, in train_step\n        self.compiled_metrics.update_state(y, y_pred, sample_weight)\n    File \"C:\\Users\\USER\\anaconda3\\lib\\site-packages\\keras\\engine\\compile_utils.py\", line 439, in update_state\n        self.build(y_pred, y_true)\n    File \"C:\\Users\\USER\\anaconda3\\lib\\site-packages\\keras\\engine\\compile_utils.py\", line 359, in build\n        self._metrics = tf.__internal__.nest.map_structure_up_to(y_pred, self._get_metric_objects,\n    File \"C:\\Users\\USER\\anaconda3\\lib\\site-packages\\keras\\engine\\compile_utils.py\", line 485, in _get_metric_objects\n        return [self._get_metric_object(m, y_t, y_p) for m in metrics]\n    File \"C:\\Users\\USER\\anaconda3\\lib\\site-packages\\keras\\engine\\compile_utils.py\", line 485, in <listcomp>\n        return [self._get_metric_object(m, y_t, y_p) for m in metrics]\n    File \"C:\\Users\\USER\\anaconda3\\lib\\site-packages\\keras\\engine\\compile_utils.py\", line 504, in _get_metric_object\n        metric_obj = metrics_mod.get(metric)\n    File \"C:\\Users\\USER\\anaconda3\\lib\\site-packages\\keras\\metrics.py\", line 3785, in get\n        return deserialize(str(identifier))\n    File \"C:\\Users\\USER\\anaconda3\\lib\\site-packages\\keras\\metrics.py\", line 3741, in deserialize\n        return deserialize_keras_object(\n    File \"C:\\Users\\USER\\anaconda3\\lib\\site-packages\\keras\\utils\\generic_utils.py\", line 708, in deserialize_keras_object\n        raise ValueError(\n\n    ValueError: Unknown metric function: val_acc. Please ensure this object is passed to the `custom_objects` argument. See https://www.tensorflow.org/guide/keras/save_and_serialize#registering_the_custom_object for details.\n"
     ]
    }
   ],
   "source": [
    "classifier_mag = model_mag.fit(X_mag_train,\n",
    "                    Y_mag_train,\n",
    "                    epochs=10,\n",
    "                    batch_size=64,\n",
    "                    validation_split = 0.2)"
   ]
  },
  {
   "cell_type": "code",
   "execution_count": 25,
   "metadata": {},
   "outputs": [
    {
     "name": "stdout",
     "output_type": "stream",
     "text": [
      "Epoch 1/20\n",
      "63/63 [==============================] - 30s 472ms/step - loss: 1.8177 - accuracy: 0.3205\n",
      "Epoch 2/20\n",
      "63/63 [==============================] - 29s 460ms/step - loss: 1.0107 - accuracy: 0.5320\n",
      "Epoch 3/20\n",
      "63/63 [==============================] - 29s 456ms/step - loss: 0.7651 - accuracy: 0.6440\n",
      "Epoch 4/20\n",
      "63/63 [==============================] - 29s 457ms/step - loss: 0.6863 - accuracy: 0.6770\n",
      "Epoch 5/20\n",
      "63/63 [==============================] - 29s 463ms/step - loss: 0.5996 - accuracy: 0.7753\n",
      "Epoch 6/20\n",
      "63/63 [==============================] - 30s 475ms/step - loss: 0.5228 - accuracy: 0.8155\n",
      "Epoch 7/20\n",
      "63/63 [==============================] - 32s 506ms/step - loss: 0.4345 - accuracy: 0.8553\n",
      "Epoch 8/20\n",
      "63/63 [==============================] - 29s 461ms/step - loss: 0.3383 - accuracy: 0.9043\n",
      "Epoch 9/20\n",
      "63/63 [==============================] - 31s 493ms/step - loss: 0.2188 - accuracy: 0.9513\n",
      "Epoch 10/20\n",
      "63/63 [==============================] - 29s 462ms/step - loss: 0.1406 - accuracy: 0.9790\n",
      "Epoch 11/20\n",
      "63/63 [==============================] - 32s 515ms/step - loss: 0.0819 - accuracy: 0.9940\n",
      "Epoch 12/20\n",
      "63/63 [==============================] - 32s 501ms/step - loss: 0.0517 - accuracy: 0.9983\n",
      "Epoch 13/20\n",
      "63/63 [==============================] - 31s 496ms/step - loss: 0.0286 - accuracy: 0.9998\n",
      "Epoch 14/20\n",
      "63/63 [==============================] - 31s 485ms/step - loss: 0.0174 - accuracy: 1.0000\n",
      "Epoch 15/20\n",
      "63/63 [==============================] - 32s 499ms/step - loss: 0.0101 - accuracy: 1.0000\n",
      "Epoch 16/20\n",
      "63/63 [==============================] - 32s 503ms/step - loss: 0.0070 - accuracy: 1.0000\n",
      "Epoch 17/20\n",
      "63/63 [==============================] - 31s 489ms/step - loss: 0.0059 - accuracy: 1.0000\n",
      "Epoch 18/20\n",
      "63/63 [==============================] - 32s 507ms/step - loss: 0.0037 - accuracy: 1.0000\n",
      "Epoch 19/20\n",
      "63/63 [==============================] - 29s 461ms/step - loss: 0.0030 - accuracy: 1.0000\n",
      "Epoch 20/20\n",
      "63/63 [==============================] - 30s 483ms/step - loss: 0.0021 - accuracy: 1.0000\n"
     ]
    }
   ],
   "source": [
    "classifier_phase = model_phase.fit(X_phase_train,\n",
    "                    Y_phase_train,\n",
    "                    epochs=20,\n",
    "                    batch_size=64)"
   ]
  },
  {
   "cell_type": "code",
   "execution_count": 18,
   "metadata": {},
   "outputs": [
    {
     "data": {
      "image/png": "[encoded data removed]",
      "text/plain": [
       "<Figure size 432x288 with 1 Axes>"
      ]
     },
     "metadata": {
      "needs_background": "light"
     },
     "output_type": "display_data"
    }
   ],
   "source": [
    "plt.plot(classifier_mag.history['loss'])\n",
    "plt.plot(classifier.history['val_loss'])\n",
    "\n",
    "plt.legend(['loss', 'val_loss'], loc = 'upper left')\n",
    "plt.show()"
   ]
  },
  {
   "cell_type": "code",
   "execution_count": 26,
   "metadata": {},
   "outputs": [
    {
     "data": {
      "image/png": "[encoded data removed]",
      "text/plain": [
       "<Figure size 432x288 with 1 Axes>"
      ]
     },
     "metadata": {
      "needs_background": "light"
     },
     "output_type": "display_data"
    }
   ],
   "source": [
    "plt.plot(classifier_phase.history['loss'])\n",
    "#plt.plot(classifier.history['accuracy'])\n",
    "plt.legend(['training', 'validation'], loc = 'upper left')\n",
    "plt.show()"
   ]
  },
  {
   "cell_type": "code",
   "execution_count": 19,
   "metadata": {},
   "outputs": [
    {
     "name": "stdout",
     "output_type": "stream",
     "text": [
      "32/32 - 3s - loss: 0.2139 - accuracy: 0.9360 - 3s/epoch - 79ms/step\n",
      "테스트 정확도: 0.9359999895095825\n"
     ]
    }
   ],
   "source": [
    "test_loss, test_acc = model_mag.evaluate(X_mag_test,  Y_mag_test, verbose=2)\n",
    "print('테스트 정확도:', test_acc)"
   ]
  },
  {
   "cell_type": "code",
   "execution_count": 31,
   "metadata": {},
   "outputs": [
    {
     "name": "stdout",
     "output_type": "stream",
     "text": [
      "32/32 - 2s - loss: 0.9130 - accuracy: 0.7330 - 2s/epoch - 73ms/step\n",
      "테스트 정확도: 0.7329999804496765\n"
     ]
    }
   ],
   "source": [
    "test_loss, test_acc = model_phase.evaluate(X_phase_test,  Y_phase_test, verbose=2)\n",
    "print('테스트 정확도:', test_acc)"
   ]
  },
  {
   "cell_type": "code",
   "execution_count": 45,
   "metadata": {},
   "outputs": [
    {
     "name": "stdout",
     "output_type": "stream",
     "text": [
      "(800, 5)\n"
     ]
    }
   ],
   "source": [
    "print(Y_phase_test[Y_phase_test[:,3]==0].shape)"
   ]
  },
  {
   "cell_type": "code",
   "execution_count": 32,
   "metadata": {},
   "outputs": [],
   "source": [
    "prediction = model.predict(X_phase_test)"
   ]
  },
  {
   "cell_type": "code",
   "execution_count": 33,
   "metadata": {},
   "outputs": [
    {
     "name": "stdout",
     "output_type": "stream",
     "text": [
      "[2 2 2 2 2 0 2 0 0 2 0 0 2 0 2 2 0 2 0 0 2 0 0 2 2 2 0 0 0 0 2 2 2 2 2 2 2\n",
      " 0 0 2 0 2 2 2 0 2 0 0 2 2 2 2 2 2 2 2 2 2 0 2 2 2 0 2 0 0 0 2 2 0 2 2 0 0\n",
      " 0 2 2 0 0 0 2 0 0 2 2 2 0 0 2 2 0 0 2 0 0 0 0 2 0 0 0 0 2 0 2 0 2 2 2 0 2\n",
      " 0 0 0 2 2 0 2 2 2 2 0 2 2 2 2 0 0 2 2 2 0 0 0 0 2 2 0 0 2 0 2 2 0 2 2 0 0\n",
      " 0 2 2 0 0 0 2 2 2 2 0 0 0 2 2 0 2 2 0 2 0 2 0 2 2 2 2 2 0 2 0 2 2 0 0 0 2\n",
      " 2 2 2 0 2 0 2 0 0 0 0 0 0 0 0 2 0 0 0 2 0 0 2 2 0 2 0 2 0 2 2 0 2 2 0 0 2\n",
      " 2 0 2 2 2 2 2 0 0 2 2 0 0 0 0 0 2 2 0 2 2 2 2 2 2 0 2 2 0 0 0 2 0 0 0 0 0\n",
      " 2 2 2 2 2 2 2 0 0 0 2 2 2 2 0 2 0 0 0 2 0 0 0 2 2 2 2 0 2 2 0 2 2 2 0 2 2\n",
      " 0 2 0 2 0 0 0 2 2 2 2 2 2 2 2 0 2 2 2 2 2 2 0 2 0 0 0 2 2 2 2 2 2 2 2 0 0\n",
      " 0 0 2 2 2 0 0 2 0 2 2 0 2 2 2 2 2 0 2 2 2 0 2 0 2 0 2 2 2 2 0 0 0 2 2 0 2\n",
      " 2 0 0 0 2 2 0 0 2 2 0 2 0 0 0 2 0 2 0 2 0 2 2 2 2 0 2 0 0 0 2 2 2 0 2 2 0\n",
      " 2 2 0 2 0 2 2 2 2 2 2 2 2 0 0 0 0 2 0 0 2 0 0 2 2 2 2 2 2 2 2 0 2 2 0 2 2\n",
      " 0 2 2 0 0 2 2 2 0 0 2 0 2 2 0 0 2 2 2 0 2 0 0 2 0 2 2 0 0 2 2 0 2 2 0 2 0\n",
      " 0 0 0 0 2 2 2 0 2 0 0 0 2 0 2 0 2 0 2 0 2 0 2 2 2 0 0 0 2 0 0 0 2 2 2 0 0\n",
      " 2 0 2 2 2 0 2 0 2 0 2 2 2 0 2 0 2 0 2 2 2 2 0 0 0 0 0 2 2 2 2 2 2 0 2 0 2\n",
      " 2 2 0 0 2 0 2 2 2 0 0 0 2 2 2 2 2 0 0 2 2 0 0 0 2 2 2 2 2 2 2 2 0 0 2 2 0\n",
      " 0 0 2 2 2 2 2 0 2 0 0 2 0 0 0 2 2 2 2 2 2 0 2 0 2 0 2 0 2 0 0 0 0 2 2 0 0\n",
      " 0 2 2 2 0 2 0 0 2 2 2 2 0 2 0 2 2 0 0 0 0 2 2 2 2 2 0 0 2 2 2 2 2 0 0 2 2\n",
      " 0 2 0 0 2 2 2 2 0 0 2 2 0 2 2 0 2 2 2 0 2 0 0 0 2 2 2 2 2 2 2 2 0 2 0 0 0\n",
      " 0 2 2 2 0 0 2 2 0 2 0 0 2 2 0 0 0 0 0 2 0 0 0 0 2 2 0 0 2 0 2 0 2 2 2 0 2\n",
      " 2 0 0 2 0 2 0 2 0 2 0 2 2 2 0 2 0 2 0 0 0 0 2 2 2 2 0 2 0 0 2 0 0 2 0 2 2\n",
      " 2 2 2 0 0 0 2 0 2 2 0 0 0 2 0 2 2 2 2 0 2 2 0 2 0 2 2 0 2 2 0 0 2 2 0 2 0\n",
      " 2 2 2 0 2 2 0 0 0 2 2 2 2 2 2 2 2 0 0 0 2 0 2 2 2 0 0 2 2 0 0 0 2 2 2 0 2\n",
      " 2 2 0 2 2 2 0 2 2 0 2 0 2 0 0 0 2 2 2 0 2 2 2 2 0 0 0 2 2 2 2 2 2 0 0 2 2\n",
      " 2 0 2 0 2 0 0 2 2 0 2 0 2 2 2 2 0 0 0 2 2 0 0 0 2 2 0 2 0 2 0 2 0 2 2 0 2\n",
      " 2 0 0 2 0 2 2 0 2 2 0 2 2 2 0 0 2 0 2 2 2 0 0 2 2 0 0 2 2 0 2 2 2 2 2 0 0\n",
      " 0 2 2 2 0 2 0 2 2 0 2 0 0 2 0 0 2 2 2 0 0 2 2 2 0 2 2 0 2 0 2 2 0 2 2 2 2\n",
      " 2]\n"
     ]
    }
   ],
   "source": [
    "predicted_classes = np.argmax(prediction, axis = 1)\n",
    "print(predicted_classes)"
   ]
  },
  {
   "cell_type": "code",
   "execution_count": 30,
   "metadata": {},
   "outputs": [
    {
     "name": "stdout",
     "output_type": "stream",
     "text": [
      "[0 0 0 0 0 0 0 0 0 0 0 0 0 0 0 0 0 0 0 0 0 0 0 0 0 0 0 0 0 0 0 0 0 0 0 0 0\n",
      " 0 0 0 0 0 0 0 0 0 0 0 0 0 0 0 0 0 0 0 0 0 0 0 0 0 0 0 0 0 0 0 0 0 0 0 0 0\n",
      " 0 0 0 0 0 0 0 0 0 0 0 0 0 0 0 0 0 0 0 0 0 0 0 0 0 0 0 0 0 0 0 0 0 0 0 0 0\n",
      " 0 0 0 0 0 0 0 0 0 0 0 0 0 0 0 0 0 0 0 0 0 0 0 0 0 0 0 0 0 0 0 0 0 0 0 0 0\n",
      " 0 0 0 0 0 0 0 0 0 0 0 0 0 0 0 0 0 0 0 0 0 0 0 0 0 0 0 0 0 0 0 0 0 0 0 0 0\n",
      " 0 0 0 0 0 0 0 0 0 0 0 0 0 0 0 1 1 1 1 1 1 1 1 1 1 1 1 1 1 1 1 1 1 1 1 1 1\n",
      " 1 1 1 1 1 1 1 1 1 1 1 1 1 1 1 1 1 1 1 1 1 1 1 1 1 1 1 1 1 1 1 1 1 1 1 1 1\n",
      " 1 1 1 1 1 1 1 1 1 1 1 1 1 1 1 1 1 1 1 1 1 1 1 1 1 1 1 1 1 1 1 1 1 1 1 1 1\n",
      " 1 1 1 1 1 1 1 1 1 1 1 1 1 1 1 1 1 1 1 1 1 1 1 1 1 1 1 1 1 1 1 1 1 1 1 1 1\n",
      " 1 1 1 1 1 1 1 1 1 1 1 1 1 1 1 1 1 1 1 1 1 1 1 1 1 1 1 1 1 1 1 1 1 1 1 1 1\n",
      " 1 1 1 1 1 1 1 1 1 1 1 1 1 1 1 1 1 1 1 1 1 1 1 1 1 1 1 1 1 1 2 2 2 2 2 2 2\n",
      " 2 2 2 2 2 2 2 2 2 2 2 2 2 2 2 2 2 2 2 2 2 2 2 2 2 2 2 2 2 2 2 2 2 2 2 2 2\n",
      " 2 2 2 2 2 2 2 2 2 2 2 2 2 2 2 2 2 2 2 2 2 2 2 2 2 2 2 2 2 2 2 2 2 2 2 2 2\n",
      " 2 2 2 2 2 2 2 2 2 2 2 2 2 2 2 2 2 2 2 2 2 2 2 2 2 2 2 2 2 2 2 2 2 2 2 2 2\n",
      " 2 2 2 2 2 2 2 2 2 2 2 2 2 2 2 2 2 2 2 2 2 2 2 2 2 2 2 2 2 2 2 2 2 2 2 2 2\n",
      " 2 2 2 2 2 2 2 2 2 2 2 2 2 2 2 2 2 2 2 2 2 2 2 2 2 2 2 2 2 2 2 2 2 2 2 2 2\n",
      " 2 2 2 2 2 2 2 2 3 3 3 3 3 3 3 3 3 3 3 3 3 3 3 3 3 3 3 3 3 3 3 3 3 3 3 3 3\n",
      " 3 3 3 3 3 3 3 3 3 3 3 3 3 3 3 3 3 3 3 3 3 3 3 3 3 3 3 3 3 3 3 3 3 3 3 3 3\n",
      " 3 3 3 3 3 3 3 3 3 3 3 3 3 3 3 3 3 3 3 3 3 3 3 3 3 3 3 3 3 3 3 3 3 3 3 3 3\n",
      " 3 3 3 3 3 3 3 3 3 3 3 3 3 3 3 3 3 3 3 3 3 3 3 3 3 3 3 3 3 3 3 3 3 3 3 3 3\n",
      " 3 3 3 3 3 3 3 3 3 3 3 3 3 3 3 3 3 3 3 3 3 3 3 3 3 3 3 3 3 3 3 3 3 3 3 3 3\n",
      " 3 3 3 3 3 3 3 3 3 3 3 3 3 3 3 3 3 3 3 3 3 3 3 4 4 4 4 4 4 4 4 4 4 4 4 4 4\n",
      " 4 4 4 4 4 4 4 4 4 4 4 4 4 4 4 4 4 4 4 4 4 4 4 4 4 4 4 4 4 4 4 4 4 4 4 4 4\n",
      " 4 4 4 4 4 4 4 4 4 4 4 4 4 4 4 4 4 4 4 4 4 4 4 4 4 4 4 4 4 4 4 4 4 4 4 4 4\n",
      " 4 4 4 4 4 4 4 4 4 4 4 4 4 4 4 4 4 4 4 4 4 4 4 4 4 4 4 4 4 4 4 4 4 4 4 4 4\n",
      " 4 4 4 4 4 4 4 4 4 4 4 4 4 4 4 4 4 4 4 4 4 4 4 4 4 4 4 4 4 4 4 4 4 4 4 4 4\n",
      " 4 4 4 4 4 4 4 4 4 4 4 4 4 4 4 4 4 4 4 4 4 4 4 4 4 4 4 4 4 4 4 4 4 4 4 4 4\n",
      " 4]\n"
     ]
    }
   ],
   "source": [
    "labels = np.argmax(Y_phase_test, axis=1)\n",
    "print(labels)"
   ]
  },
  {
   "cell_type": "code",
   "execution_count": null,
   "metadata": {},
   "outputs": [],
   "source": [
    "labels.shape, predicted_classes.shape"
   ]
  },
  {
   "cell_type": "code",
   "execution_count": null,
   "metadata": {},
   "outputs": [],
   "source": [
    "print(np.where(predicted_classes[0] != labels[0]))"
   ]
  },
  {
   "cell_type": "code",
   "execution_count": null,
   "metadata": {},
   "outputs": [],
   "source": [
    "index = np.where(predicted_classes != labels)\n",
    "print(index)"
   ]
  },
  {
   "cell_type": "code",
   "execution_count": null,
   "metadata": {},
   "outputs": [],
   "source": [
    "len(index[0])"
   ]
  },
  {
   "cell_type": "code",
   "execution_count": null,
   "metadata": {},
   "outputs": [],
   "source": [
    "index[0][0]"
   ]
  },
  {
   "cell_type": "code",
   "execution_count": null,
   "metadata": {},
   "outputs": [],
   "source": [
    "X_filename = []\n",
    "for filename in os.listdir(f'C:/Users/USER/Desktop/spcup_2022/audiofile/'):\n",
    "    audioname = f'C:/Users/USER/Desktop/spcup_2022/audiofile/{filename}'\n",
    "    X_filename.append(audioname)\n",
    "X_filename = np.array(X_filename)"
   ]
  },
  {
   "cell_type": "code",
   "execution_count": null,
   "metadata": {},
   "outputs": [],
   "source": [
    "len(X_filename)"
   ]
  },
  {
   "cell_type": "code",
   "execution_count": null,
   "metadata": {},
   "outputs": [],
   "source": [
    "X_test_filename = np.concatenate((X_filename[800:1000],X_filename[1800:2000],X_filename[2800:3000],X_filename[3800:4000],X_filename[4800:5000]), axis = 0)"
   ]
  },
  {
   "cell_type": "code",
   "execution_count": null,
   "metadata": {},
   "outputs": [],
   "source": [
    "len(X_test_filename)"
   ]
  },
  {
   "cell_type": "code",
   "execution_count": null,
   "metadata": {},
   "outputs": [],
   "source": [
    "X_test_filename[0]"
   ]
  },
  {
   "cell_type": "code",
   "execution_count": null,
   "metadata": {
    "scrolled": true
   },
   "outputs": [],
   "source": [
    "# 잘못 예측한 오디오 파일들 \n",
    "wrong_predictions = []\n",
    "\n",
    "for i in range(len(index[0])):\n",
    "    wrong_predictions.append(X_test_filename[index[0][i]])\n",
    "    print(X_test_filename[index[0][i]])\n",
    "    \n",
    "print(len(wrong_predictions))"
   ]
  },
  {
   "cell_type": "code",
   "execution_count": null,
   "metadata": {},
   "outputs": [],
   "source": [
    "# 잘못 예측한거 plot\n",
    "for audio in wrong_predictions:\n",
    "    y, sr = librosa.load(audio, duration=1)  # 모두 1초까지만 자름\n",
    "    stft = np.abs(librosa.stft(y, n_fft=512, hop_length=384))   # 일반적으로 1/4 가량 겹치게 함\n",
    "    spectogram = np.abs(stft)\n",
    "    plt.figure(figsize=(10,5))\n",
    "    plt.title(audio)\n",
    "    plt.plot(spectogram) "
   ]
  },
  {
   "cell_type": "code",
   "execution_count": null,
   "metadata": {},
   "outputs": [],
   "source": [
    "# 잘못 예측한 오디오 파일들 모은 폴더 생성\n",
    "import shutil\n",
    "import os\n",
    " \n",
    "file_source = 'C:/Users/USER/Desktop/spcup_2022/audiofile/'\n",
    "file_destination = 'C:/Users/USER/Desktop/wrong_prediction'\n",
    " \n",
    "get_files = os.listdir(file_source)\n",
    " \n",
    "\n",
    "for i in range(len(wrong_predictions)):\n",
    "    print(wrong_predictions[i][43:])\n",
    "    for g in get_files:\n",
    "        if g == wrong_predictions[i][43:]:\n",
    "            shutil.move(file_source + g, file_destination)"
   ]
  },
  {
   "cell_type": "code",
   "execution_count": null,
   "metadata": {},
   "outputs": [],
   "source": []
  }
 ],
 "metadata": {
  "kernelspec": {
   "display_name": "Python 3",
   "language": "python",
   "name": "python3"
  },
  "language_info": {
   "codemirror_mode": {
    "name": "ipython",
    "version": 3
   },
   "file_extension": ".py",
   "mimetype": "text/x-python",
   "name": "python",
   "nbconvert_exporter": "python",
   "pygments_lexer": "ipython3",
   "version": "3.8.5"
  }
 },
 "nbformat": 4,
 "nbformat_minor": 4
}
