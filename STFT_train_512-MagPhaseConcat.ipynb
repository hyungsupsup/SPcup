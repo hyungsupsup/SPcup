{
 "cells": [
  {
   "cell_type": "code",
   "execution_count": 1,
   "metadata": {},
   "outputs": [],
   "source": [
    "%matplotlib inline\n",
    "import matplotlib.pyplot as plt\n",
    "import os\n",
    "from scipy.io import wavfile\n",
    "from collections import defaultdict, Counter\n",
    "from scipy import signal\n",
    "import numpy as np\n",
    "import librosa\n",
    "import random as rn\n",
    "from keras.layers import Dense\n",
    "from keras import Input\n",
    "#from keras.engine import Model\n",
    "from keras.layers import Dense, TimeDistributed, Dropout, Bidirectional, GRU, BatchNormalization, Activation, LeakyReLU, LSTM, Flatten, RepeatVector, Permute, Multiply, Conv2D, MaxPooling2D\n",
    "import librosa\n",
    "import pandas as pd\n",
    "import numpy as np\n",
    "import matplotlib.pyplot as plt\n",
    "%matplotlib inline\n",
    "import os\n",
    "from PIL import Image\n",
    "import pathlib\n",
    "import csv \n",
    "from sklearn.model_selection import train_test_split\n",
    "from sklearn.preprocessing import LabelEncoder, StandardScaler\n",
    "import keras\n",
    "from keras import layers\n",
    "from sklearn.preprocessing import MinMaxScaler"
   ]
  },
  {
   "cell_type": "code",
   "execution_count": 2,
   "metadata": {},
   "outputs": [],
   "source": [
    "data_dir = 'C:/Users/USER/Desktop/spcup_2022/audiofile/'"
   ]
  },
  {
   "cell_type": "code",
   "execution_count": 9,
   "metadata": {},
   "outputs": [
    {
     "name": "stdout",
     "output_type": "stream",
     "text": [
      "(5000, 514, 42)\n",
      "(5000, 5)\n"
     ]
    }
   ],
   "source": [
    "X = []\n",
    "Y = []\n",
    "categories = [\"0\",\"1\",\"2\",\"3\",\"4\"]\n",
    "num_classes = len(categories)\n",
    "\n",
    "for filename in os.listdir(f'C:/Users/USER/Desktop/spcup_2022/audiofile/'):\n",
    "    audioname = f'C:/Users/USER/Desktop/spcup_2022/audiofile/{filename}'\n",
    "    y, sr = librosa.load(audioname, duration=1, sr = 16000)  # 모두 1초까지만 자름\n",
    "    stft = librosa.stft(y, n_fft=512, hop_length=384)  # 일반적으로 1/4 가량 겹치게 함\n",
    "    # phase, mag 추출\n",
    "    magnitude, phase = librosa.magphase(stft)\n",
    "    # mag를 넘파이 배열로\n",
    "    magnitude = np.array(magnitude)\n",
    "    # radian값으로 변환\n",
    "    phase = np.angle(phase)\n",
    "    phase = np.array(phase)\n",
    "    # normalization_magnitude\n",
    "    scaler = StandardScaler()\n",
    "    scaler.fit(magnitude)\n",
    "    magnitude = scaler.transform(magnitude)\n",
    "    # normalization_phase\n",
    "    scaler = StandardScaler()\n",
    "    scaler.fit(phase)\n",
    "    phase = scaler.transform(phase)\n",
    "    ## 두 개 결합\n",
    "    magphase = np.concatenate((magnitude,phase)) \n",
    "    X.append(magphase)\n",
    "\n",
    "for idex, category in enumerate(categories):\n",
    "    label = [0 for i in range(num_classes)]\n",
    "    label[idex] = 1\n",
    "    for j in range(1000):\n",
    "        Y.append(label)\n",
    "\n",
    "X = np.array(X)\n",
    "Y = np.array(Y)\n",
    "print(X.shape)\n",
    "print(Y.shape)"
   ]
  },
  {
   "cell_type": "code",
   "execution_count": 10,
   "metadata": {},
   "outputs": [
    {
     "data": {
      "text/plain": [
       "((514, 42), (514, 42), (514, 42))"
      ]
     },
     "execution_count": 10,
     "metadata": {},
     "output_type": "execute_result"
    }
   ],
   "source": [
    "X[0].shape, X[1].shape, X[318].shape"
   ]
  },
  {
   "cell_type": "code",
   "execution_count": 11,
   "metadata": {},
   "outputs": [
    {
     "name": "stdout",
     "output_type": "stream",
     "text": [
      "(4000, 514, 42)\n",
      "(1000, 514, 42)\n",
      "(4000, 5)\n",
      "(1000, 5)\n"
     ]
    }
   ],
   "source": [
    "X_train = np.concatenate((X[0:800],X[1000:1800],X[2000:2800],X[3000:3800],X[4000:4800]), axis = 0)\n",
    "X_test = np.concatenate((X[800:1000],X[1800:2000],X[2800:3000],X[3800:4000],X[4800:5000]), axis = 0)\n",
    "Y_train = np.concatenate((Y[0:800],Y[1000:1800],Y[2000:2800],Y[3000:3800],Y[4000:4800]), axis = 0)\n",
    "Y_test = np.concatenate((Y[800:1000],Y[1800:2000],Y[2800:3000],Y[3800:4000],Y[4800:5000]), axis = 0)\n",
    "\n",
    "print(X_train.shape)\n",
    "print(X_test.shape)\n",
    "print(Y_train.shape)\n",
    "print(Y_test.shape)"
   ]
  },
  {
   "cell_type": "code",
   "execution_count": 32,
   "metadata": {},
   "outputs": [],
   "source": [
    "# CNN 모델에 들어가려면 4차원으로 바꿔줘야함\n",
    "X_train = X_train.reshape(-1,257,84,1)\n",
    "X_test = X_test.reshape(-1,257,84,1)"
   ]
  },
  {
   "cell_type": "code",
   "execution_count": 33,
   "metadata": {},
   "outputs": [],
   "source": [
    "from keras.models import Sequential\n",
    "from keras.layers import Flatten, Conv2D, MaxPooling2D"
   ]
  },
  {
   "cell_type": "code",
   "execution_count": 34,
   "metadata": {},
   "outputs": [],
   "source": [
    "model = Sequential()\n",
    "model.add(layers.Conv2D(64, (3, 3), activation='relu', input_shape=(257, 84, 1)))\n",
    "model.add(layers.MaxPooling2D((2, 2)))\n",
    "model.add(layers.Dense(32, activation='relu'))\n",
    "model.add(Flatten())\n",
    "model.add(layers.Dense(32, activation='relu'))\n",
    "model.add(layers.Dense(5, activation='softmax'))\n"
   ]
  },
  {
   "cell_type": "code",
   "execution_count": 35,
   "metadata": {},
   "outputs": [],
   "source": [
    "# 모델 컴파일\n",
    "model.compile(optimizer='adam',\n",
    "              loss='categorical_crossentropy',\n",
    "              metrics=['accuracy'])"
   ]
  },
  {
   "cell_type": "code",
   "execution_count": 36,
   "metadata": {},
   "outputs": [
    {
     "name": "stdout",
     "output_type": "stream",
     "text": [
      "Epoch 1/10\n",
      "63/63 [==============================] - 59s 929ms/step - loss: 1.0473 - accuracy: 0.6442\n",
      "Epoch 2/10\n",
      "63/63 [==============================] - 58s 926ms/step - loss: 0.1794 - accuracy: 0.9352\n",
      "Epoch 3/10\n",
      "63/63 [==============================] - 58s 922ms/step - loss: 0.0472 - accuracy: 0.9887\n",
      "Epoch 4/10\n",
      "63/63 [==============================] - 58s 926ms/step - loss: 0.0106 - accuracy: 0.9990\n",
      "Epoch 5/10\n",
      "63/63 [==============================] - 58s 927ms/step - loss: 0.0031 - accuracy: 1.0000\n",
      "Epoch 6/10\n",
      "63/63 [==============================] - 58s 924ms/step - loss: 0.0017 - accuracy: 1.0000\n",
      "Epoch 7/10\n",
      "63/63 [==============================] - 58s 923ms/step - loss: 0.0018 - accuracy: 1.0000\n",
      "Epoch 8/10\n",
      "63/63 [==============================] - 59s 932ms/step - loss: 5.9782e-04 - accuracy: 1.0000\n",
      "Epoch 9/10\n",
      "63/63 [==============================] - 58s 926ms/step - loss: 4.3655e-04 - accuracy: 1.0000\n",
      "Epoch 10/10\n",
      "63/63 [==============================] - 59s 931ms/step - loss: 3.4441e-04 - accuracy: 1.0000\n"
     ]
    }
   ],
   "source": [
    "classifier = model.fit(X_train,\n",
    "                    Y_train,\n",
    "                    epochs=10,\n",
    "                    batch_size=64)"
   ]
  },
  {
   "cell_type": "code",
   "execution_count": null,
   "metadata": {},
   "outputs": [],
   "source": [
    "plt.plot(classifier.history['loss'])\n",
    "#plt.plot(classifier.history['accuracy'])\n",
    "plt.legend(['training', 'validation'], loc = 'upper left')\n",
    "plt.show()"
   ]
  },
  {
   "cell_type": "code",
   "execution_count": 37,
   "metadata": {},
   "outputs": [
    {
     "name": "stdout",
     "output_type": "stream",
     "text": [
      "32/32 - 4s - loss: 0.1920 - accuracy: 0.9280 - 4s/epoch - 138ms/step\n",
      "테스트 정확도: 0.9279999732971191\n"
     ]
    }
   ],
   "source": [
    "test_loss, test_acc = model.evaluate(X_test,  Y_test, verbose=2)\n",
    "print('테스트 정확도:', test_acc)"
   ]
  },
  {
   "cell_type": "code",
   "execution_count": 38,
   "metadata": {},
   "outputs": [],
   "source": [
    "prediction = model.predict(X_test)"
   ]
  },
  {
   "cell_type": "code",
   "execution_count": 39,
   "metadata": {},
   "outputs": [
    {
     "name": "stdout",
     "output_type": "stream",
     "text": [
      "[0 0 0 0 0 0 0 0 0 0 0 0 0 0 0 0 0 0 0 0 0 0 0 0 0 0 0 0 0 0 0 0 0 0 0 0 0\n",
      " 0 0 0 0 0 0 0 0 0 0 0 0 0 0 0 0 0 0 0 0 0 0 0 0 0 0 0 0 0 0 0 0 0 0 0 0 0\n",
      " 2 0 0 0 0 0 0 0 0 0 0 0 0 0 0 0 0 0 0 0 0 0 0 0 0 0 0 0 0 0 0 0 0 0 0 0 0\n",
      " 0 0 0 0 0 0 0 0 0 0 0 0 0 0 0 0 0 0 0 0 0 0 0 0 0 0 0 0 0 0 0 0 0 0 0 0 0\n",
      " 0 0 0 0 0 0 0 0 0 0 0 0 0 0 0 0 0 0 0 0 0 0 0 0 0 0 0 0 0 0 0 0 0 0 0 0 0\n",
      " 0 0 0 0 0 0 0 0 0 0 0 0 0 0 0 1 1 1 1 1 1 1 1 2 1 1 1 2 1 1 1 1 1 1 1 1 1\n",
      " 1 1 1 1 1 1 1 1 1 1 1 1 1 1 1 1 1 1 1 1 1 1 2 1 1 1 1 1 1 1 2 1 1 1 1 1 1\n",
      " 1 1 1 1 2 1 1 1 2 1 1 2 1 2 1 1 2 1 1 1 1 1 1 1 1 2 1 1 1 1 1 2 1 1 1 1 1\n",
      " 1 1 1 1 1 1 1 2 1 2 1 2 2 1 1 1 1 1 1 1 1 2 1 2 1 1 1 2 1 1 1 1 1 1 1 1 1\n",
      " 1 1 1 1 1 1 2 2 1 1 1 1 3 2 1 1 1 1 1 1 1 1 1 1 1 1 1 1 1 1 1 1 1 1 1 1 2\n",
      " 1 1 1 1 1 1 1 1 1 1 2 1 2 1 1 1 1 1 1 1 1 1 1 1 1 1 1 1 1 1 2 1 2 1 1 1 2\n",
      " 2 2 2 2 2 2 2 2 2 2 2 1 2 2 2 2 2 2 2 2 2 1 2 2 2 1 1 2 2 2 1 2 2 2 2 2 2\n",
      " 2 2 2 1 2 2 1 2 2 2 2 2 2 2 1 1 2 2 2 2 2 2 1 2 2 1 2 2 2 2 2 2 1 2 2 2 2\n",
      " 2 2 2 2 1 2 2 2 2 2 2 1 2 2 2 2 2 2 2 2 2 2 2 2 2 2 2 2 2 2 2 2 2 2 2 2 2\n",
      " 2 2 2 2 2 2 2 2 2 2 2 2 2 1 2 2 2 2 2 2 2 2 2 2 2 1 2 2 2 2 2 2 2 2 2 2 2\n",
      " 1 2 2 2 2 2 3 2 2 2 1 2 2 2 2 2 1 2 3 2 2 2 1 2 1 2 1 2 1 1 1 2 2 2 2 2 2\n",
      " 2 2 2 2 2 2 1 2 3 3 3 3 3 3 3 3 3 3 3 3 3 3 3 3 1 3 3 3 3 3 3 3 3 3 3 3 3\n",
      " 3 3 3 2 3 3 3 3 3 3 3 3 3 3 3 3 3 3 3 3 3 3 3 3 3 3 3 3 3 3 2 3 3 2 3 3 3\n",
      " 3 3 3 3 3 3 3 3 3 3 3 3 3 3 3 3 3 3 3 3 2 3 3 3 3 3 3 3 3 3 3 3 3 3 3 3 3\n",
      " 3 3 3 3 3 3 3 3 3 3 3 3 3 3 3 3 3 3 2 1 3 3 3 3 3 3 3 3 3 1 1 3 3 3 3 3 3\n",
      " 1 3 3 3 1 1 3 3 3 3 3 3 3 3 3 3 3 3 3 3 3 3 3 3 3 3 3 3 3 3 3 3 3 3 3 3 3\n",
      " 3 3 2 3 3 3 3 3 3 3 3 3 3 3 3 3 2 3 3 3 3 3 3 4 4 4 4 4 4 4 4 4 4 4 4 4 4\n",
      " 4 4 4 4 4 4 4 4 4 4 4 4 4 4 4 4 4 4 4 4 4 4 4 4 4 4 4 4 4 4 4 4 4 4 4 4 4\n",
      " 4 4 4 4 4 4 4 4 4 4 4 4 4 4 4 4 4 4 4 4 4 4 4 4 4 4 4 4 4 4 4 4 4 4 4 4 4\n",
      " 4 4 4 4 4 4 4 4 4 4 4 4 4 4 4 4 4 4 4 4 4 4 4 4 4 4 4 4 4 4 4 4 4 4 4 4 4\n",
      " 4 4 4 4 4 4 4 4 4 4 4 4 4 4 4 4 4 4 4 4 4 4 4 4 4 4 4 4 4 4 4 4 4 4 4 4 4\n",
      " 4 4 4 4 4 4 4 4 4 4 4 4 4 4 4 4 4 4 4 4 4 4 4 4 4 4 4 4 4 4 4 4 4 4 4 4 4\n",
      " 4]\n"
     ]
    }
   ],
   "source": [
    "predicted_classes = np.argmax(prediction, axis = 1)\n",
    "print(predicted_classes)"
   ]
  },
  {
   "cell_type": "code",
   "execution_count": 20,
   "metadata": {},
   "outputs": [
    {
     "name": "stdout",
     "output_type": "stream",
     "text": [
      "[0 0 0 0 0 0 0 0 0 0 0 0 0 0 0 0 0 0 0 0 0 0 0 0 0 0 0 0 0 0 0 0 0 0 0 0 0\n",
      " 0 0 0 0 0 0 0 0 0 0 0 0 0 0 0 0 0 0 0 0 0 0 0 0 0 0 0 0 0 0 0 0 0 0 0 0 0\n",
      " 0 0 0 0 0 0 0 0 0 0 0 0 0 0 0 0 0 0 0 0 0 0 0 0 0 0 0 0 0 0 0 0 0 0 0 0 0\n",
      " 0 0 0 0 0 0 0 0 0 0 0 0 0 0 0 0 0 0 0 0 0 0 0 0 0 0 0 0 0 0 0 0 0 0 0 0 0\n",
      " 0 0 0 0 0 0 0 0 0 0 0 0 0 0 0 0 0 0 0 0 0 0 0 0 0 0 0 0 0 0 0 0 0 0 0 0 0\n",
      " 0 0 0 0 0 0 0 0 0 0 0 0 0 0 0 1 1 1 1 1 1 1 1 1 1 1 1 1 1 1 1 1 1 1 1 1 1\n",
      " 1 1 1 1 1 1 1 1 1 1 1 1 1 1 1 1 1 1 1 1 1 1 1 1 1 1 1 1 1 1 1 1 1 1 1 1 1\n",
      " 1 1 1 1 1 1 1 1 1 1 1 1 1 1 1 1 1 1 1 1 1 1 1 1 1 1 1 1 1 1 1 1 1 1 1 1 1\n",
      " 1 1 1 1 1 1 1 1 1 1 1 1 1 1 1 1 1 1 1 1 1 1 1 1 1 1 1 1 1 1 1 1 1 1 1 1 1\n",
      " 1 1 1 1 1 1 1 1 1 1 1 1 1 1 1 1 1 1 1 1 1 1 1 1 1 1 1 1 1 1 1 1 1 1 1 1 1\n",
      " 1 1 1 1 1 1 1 1 1 1 1 1 1 1 1 1 1 1 1 1 1 1 1 1 1 1 1 1 1 1 2 2 2 2 2 2 2\n",
      " 2 2 2 2 2 2 2 2 2 2 2 2 2 2 2 2 2 2 2 2 2 2 2 2 2 2 2 2 2 2 2 2 2 2 2 2 2\n",
      " 2 2 2 2 2 2 2 2 2 2 2 2 2 2 2 2 2 2 2 2 2 2 2 2 2 2 2 2 2 2 2 2 2 2 2 2 2\n",
      " 2 2 2 2 2 2 2 2 2 2 2 2 2 2 2 2 2 2 2 2 2 2 2 2 2 2 2 2 2 2 2 2 2 2 2 2 2\n",
      " 2 2 2 2 2 2 2 2 2 2 2 2 2 2 2 2 2 2 2 2 2 2 2 2 2 2 2 2 2 2 2 2 2 2 2 2 2\n",
      " 2 2 2 2 2 2 2 2 2 2 2 2 2 2 2 2 2 2 2 2 2 2 2 2 2 2 2 2 2 2 2 2 2 2 2 2 2\n",
      " 2 2 2 2 2 2 2 2 3 3 3 3 3 3 3 3 3 3 3 3 3 3 3 3 3 3 3 3 3 3 3 3 3 3 3 3 3\n",
      " 3 3 3 3 3 3 3 3 3 3 3 3 3 3 3 3 3 3 3 3 3 3 3 3 3 3 3 3 3 3 3 3 3 3 3 3 3\n",
      " 3 3 3 3 3 3 3 3 3 3 3 3 3 3 3 3 3 3 3 3 3 3 3 3 3 3 3 3 3 3 3 3 3 3 3 3 3\n",
      " 3 3 3 3 3 3 3 3 3 3 3 3 3 3 3 3 3 3 3 3 3 3 3 3 3 3 3 3 3 3 3 3 3 3 3 3 3\n",
      " 3 3 3 3 3 3 3 3 3 3 3 3 3 3 3 3 3 3 3 3 3 3 3 3 3 3 3 3 3 3 3 3 3 3 3 3 3\n",
      " 3 3 3 3 3 3 3 3 3 3 3 3 3 3 3 3 3 3 3 3 3 3 3 4 4 4 4 4 4 4 4 4 4 4 4 4 4\n",
      " 4 4 4 4 4 4 4 4 4 4 4 4 4 4 4 4 4 4 4 4 4 4 4 4 4 4 4 4 4 4 4 4 4 4 4 4 4\n",
      " 4 4 4 4 4 4 4 4 4 4 4 4 4 4 4 4 4 4 4 4 4 4 4 4 4 4 4 4 4 4 4 4 4 4 4 4 4\n",
      " 4 4 4 4 4 4 4 4 4 4 4 4 4 4 4 4 4 4 4 4 4 4 4 4 4 4 4 4 4 4 4 4 4 4 4 4 4\n",
      " 4 4 4 4 4 4 4 4 4 4 4 4 4 4 4 4 4 4 4 4 4 4 4 4 4 4 4 4 4 4 4 4 4 4 4 4 4\n",
      " 4 4 4 4 4 4 4 4 4 4 4 4 4 4 4 4 4 4 4 4 4 4 4 4 4 4 4 4 4 4 4 4 4 4 4 4 4\n",
      " 4]\n"
     ]
    }
   ],
   "source": [
    "labels = np.argmax(Y_test, axis=1)\n",
    "print(labels)"
   ]
  },
  {
   "cell_type": "code",
   "execution_count": 40,
   "metadata": {},
   "outputs": [
    {
     "data": {
      "text/plain": [
       "((1000,), (1000,))"
      ]
     },
     "execution_count": 40,
     "metadata": {},
     "output_type": "execute_result"
    }
   ],
   "source": [
    "labels.shape, predicted_classes.shape"
   ]
  },
  {
   "cell_type": "code",
   "execution_count": 41,
   "metadata": {},
   "outputs": [
    {
     "name": "stdout",
     "output_type": "stream",
     "text": [
      "(array([], dtype=int64),)\n"
     ]
    }
   ],
   "source": [
    "print(np.where(predicted_classes[0] != labels[0]))"
   ]
  },
  {
   "cell_type": "code",
   "execution_count": 42,
   "metadata": {},
   "outputs": [
    {
     "name": "stdout",
     "output_type": "stream",
     "text": [
      "(array([ 74, 208, 212, 244, 252, 263, 267, 270, 272, 275, 284, 290, 303,\n",
      "       305, 307, 308, 317, 319, 323, 339, 340, 345, 346, 369, 380, 382,\n",
      "       401, 403, 404, 405, 418, 428, 432, 433, 437, 447, 450, 458, 459,\n",
      "       466, 469, 476, 485, 492, 531, 543, 555, 561, 565, 571, 573, 577,\n",
      "       579, 581, 583, 584, 585, 598, 616, 632, 659, 662, 686, 721, 722,\n",
      "       732, 733, 740, 744, 745, 779, 793], dtype=int64),)\n"
     ]
    }
   ],
   "source": [
    "index = np.where(predicted_classes != labels)\n",
    "print(index)"
   ]
  },
  {
   "cell_type": "code",
   "execution_count": 43,
   "metadata": {},
   "outputs": [
    {
     "data": {
      "text/plain": [
       "72"
      ]
     },
     "execution_count": 43,
     "metadata": {},
     "output_type": "execute_result"
    }
   ],
   "source": [
    "len(index[0])"
   ]
  },
  {
   "cell_type": "code",
   "execution_count": 44,
   "metadata": {},
   "outputs": [
    {
     "data": {
      "text/plain": [
       "74"
      ]
     },
     "execution_count": 44,
     "metadata": {},
     "output_type": "execute_result"
    }
   ],
   "source": [
    "index[0][0]"
   ]
  },
  {
   "cell_type": "code",
   "execution_count": 45,
   "metadata": {},
   "outputs": [],
   "source": [
    "X_filename = []\n",
    "for filename in os.listdir(f'C:/Users/USER/Desktop/spcup_2022/audiofile/'):\n",
    "    audioname = f'C:/Users/USER/Desktop/spcup_2022/audiofile/{filename}'\n",
    "    X_filename.append(audioname)\n",
    "X_filename = np.array(X_filename)"
   ]
  },
  {
   "cell_type": "code",
   "execution_count": 46,
   "metadata": {},
   "outputs": [
    {
     "data": {
      "text/plain": [
       "5000"
      ]
     },
     "execution_count": 46,
     "metadata": {},
     "output_type": "execute_result"
    }
   ],
   "source": [
    "len(X_filename)"
   ]
  },
  {
   "cell_type": "code",
   "execution_count": 47,
   "metadata": {},
   "outputs": [],
   "source": [
    "X_test_filename = np.concatenate((X_filename[800:1000],X_filename[1800:2000],X_filename[2800:3000],X_filename[3800:4000],X_filename[4800:5000]), axis = 0)"
   ]
  },
  {
   "cell_type": "code",
   "execution_count": 48,
   "metadata": {},
   "outputs": [
    {
     "data": {
      "text/plain": [
       "1000"
      ]
     },
     "execution_count": 48,
     "metadata": {},
     "output_type": "execute_result"
    }
   ],
   "source": [
    "len(X_test_filename)"
   ]
  },
  {
   "cell_type": "code",
   "execution_count": 49,
   "metadata": {},
   "outputs": [
    {
     "data": {
      "text/plain": [
       "'C:/Users/USER/Desktop/spcup_2022/audiofile/0_819.wav'"
      ]
     },
     "execution_count": 49,
     "metadata": {},
     "output_type": "execute_result"
    }
   ],
   "source": [
    "X_test_filename[0]"
   ]
  },
  {
   "cell_type": "code",
   "execution_count": 31,
   "metadata": {
    "scrolled": true
   },
   "outputs": [
    {
     "name": "stdout",
     "output_type": "stream",
     "text": [
      "C:/Users/USER/Desktop/spcup_2022/audiofile/1_820.wav\n",
      "C:/Users/USER/Desktop/spcup_2022/audiofile/1_823.wav\n",
      "C:/Users/USER/Desktop/spcup_2022/audiofile/1_828.wav\n",
      "C:/Users/USER/Desktop/spcup_2022/audiofile/1_83.wav\n",
      "C:/Users/USER/Desktop/spcup_2022/audiofile/1_838.wav\n",
      "C:/Users/USER/Desktop/spcup_2022/audiofile/1_847.wav\n",
      "C:/Users/USER/Desktop/spcup_2022/audiofile/1_859.wav\n",
      "C:/Users/USER/Desktop/spcup_2022/audiofile/1_863.wav\n",
      "C:/Users/USER/Desktop/spcup_2022/audiofile/1_864.wav\n",
      "C:/Users/USER/Desktop/spcup_2022/audiofile/1_866.wav\n",
      "C:/Users/USER/Desktop/spcup_2022/audiofile/1_867.wav\n",
      "C:/Users/USER/Desktop/spcup_2022/audiofile/1_875.wav\n",
      "C:/Users/USER/Desktop/spcup_2022/audiofile/1_876.wav\n",
      "C:/Users/USER/Desktop/spcup_2022/audiofile/1_88.wav\n",
      "C:/Users/USER/Desktop/spcup_2022/audiofile/1_884.wav\n",
      "C:/Users/USER/Desktop/spcup_2022/audiofile/1_894.wav\n",
      "C:/Users/USER/Desktop/spcup_2022/audiofile/1_897.wav\n",
      "C:/Users/USER/Desktop/spcup_2022/audiofile/1_90.wav\n",
      "C:/Users/USER/Desktop/spcup_2022/audiofile/1_900.wav\n",
      "C:/Users/USER/Desktop/spcup_2022/audiofile/1_911.wav\n",
      "C:/Users/USER/Desktop/spcup_2022/audiofile/1_912.wav\n",
      "C:/Users/USER/Desktop/spcup_2022/audiofile/1_915.wav\n",
      "C:/Users/USER/Desktop/spcup_2022/audiofile/1_916.wav\n",
      "C:/Users/USER/Desktop/spcup_2022/audiofile/1_92.wav\n",
      "C:/Users/USER/Desktop/spcup_2022/audiofile/1_920.wav\n",
      "C:/Users/USER/Desktop/spcup_2022/audiofile/1_924.wav\n",
      "C:/Users/USER/Desktop/spcup_2022/audiofile/1_926.wav\n",
      "C:/Users/USER/Desktop/spcup_2022/audiofile/1_93.wav\n",
      "C:/Users/USER/Desktop/spcup_2022/audiofile/1_944.wav\n",
      "C:/Users/USER/Desktop/spcup_2022/audiofile/1_945.wav\n",
      "C:/Users/USER/Desktop/spcup_2022/audiofile/1_950.wav\n",
      "C:/Users/USER/Desktop/spcup_2022/audiofile/1_953.wav\n",
      "C:/Users/USER/Desktop/spcup_2022/audiofile/1_968.wav\n",
      "C:/Users/USER/Desktop/spcup_2022/audiofile/1_971.wav\n",
      "C:/Users/USER/Desktop/spcup_2022/audiofile/1_983.wav\n",
      "C:/Users/USER/Desktop/spcup_2022/audiofile/2_82.wav\n",
      "C:/Users/USER/Desktop/spcup_2022/audiofile/2_821.wav\n",
      "C:/Users/USER/Desktop/spcup_2022/audiofile/2_838.wav\n",
      "C:/Users/USER/Desktop/spcup_2022/audiofile/2_844.wav\n",
      "C:/Users/USER/Desktop/spcup_2022/audiofile/2_845.wav\n",
      "C:/Users/USER/Desktop/spcup_2022/audiofile/2_848.wav\n",
      "C:/Users/USER/Desktop/spcup_2022/audiofile/2_849.wav\n",
      "C:/Users/USER/Desktop/spcup_2022/audiofile/2_861.wav\n",
      "C:/Users/USER/Desktop/spcup_2022/audiofile/2_872.wav\n",
      "C:/Users/USER/Desktop/spcup_2022/audiofile/2_886.wav\n",
      "C:/Users/USER/Desktop/spcup_2022/audiofile/2_888.wav\n",
      "C:/Users/USER/Desktop/spcup_2022/audiofile/2_901.wav\n",
      "C:/Users/USER/Desktop/spcup_2022/audiofile/2_909.wav\n",
      "C:/Users/USER/Desktop/spcup_2022/audiofile/2_92.wav\n",
      "C:/Users/USER/Desktop/spcup_2022/audiofile/2_929.wav\n",
      "C:/Users/USER/Desktop/spcup_2022/audiofile/2_948.wav\n",
      "C:/Users/USER/Desktop/spcup_2022/audiofile/2_956.wav\n",
      "C:/Users/USER/Desktop/spcup_2022/audiofile/2_959.wav\n",
      "C:/Users/USER/Desktop/spcup_2022/audiofile/2_968.wav\n",
      "C:/Users/USER/Desktop/spcup_2022/audiofile/2_974.wav\n",
      "C:/Users/USER/Desktop/spcup_2022/audiofile/2_975.wav\n",
      "C:/Users/USER/Desktop/spcup_2022/audiofile/2_979.wav\n",
      "C:/Users/USER/Desktop/spcup_2022/audiofile/2_982.wav\n",
      "C:/Users/USER/Desktop/spcup_2022/audiofile/2_984.wav\n",
      "C:/Users/USER/Desktop/spcup_2022/audiofile/2_986.wav\n",
      "C:/Users/USER/Desktop/spcup_2022/audiofile/2_99.wav\n",
      "C:/Users/USER/Desktop/spcup_2022/audiofile/2_998.wav\n",
      "C:/Users/USER/Desktop/spcup_2022/audiofile/3_848.wav\n",
      "C:/Users/USER/Desktop/spcup_2022/audiofile/3_86.wav\n",
      "C:/Users/USER/Desktop/spcup_2022/audiofile/3_872.wav\n",
      "C:/Users/USER/Desktop/spcup_2022/audiofile/3_875.wav\n",
      "C:/Users/USER/Desktop/spcup_2022/audiofile/3_880.wav\n",
      "C:/Users/USER/Desktop/spcup_2022/audiofile/3_897.wav\n",
      "C:/Users/USER/Desktop/spcup_2022/audiofile/3_905.wav\n",
      "C:/Users/USER/Desktop/spcup_2022/audiofile/3_916.wav\n",
      "C:/Users/USER/Desktop/spcup_2022/audiofile/3_921.wav\n",
      "C:/Users/USER/Desktop/spcup_2022/audiofile/3_928.wav\n",
      "C:/Users/USER/Desktop/spcup_2022/audiofile/3_938.wav\n",
      "C:/Users/USER/Desktop/spcup_2022/audiofile/3_949.wav\n",
      "C:/Users/USER/Desktop/spcup_2022/audiofile/3_962.wav\n",
      "75\n"
     ]
    }
   ],
   "source": [
    "# 잘못 예측한 오디오 파일들 \n",
    "wrong_predictions = []\n",
    "\n",
    "for i in range(len(index[0])):\n",
    "    wrong_predictions.append(X_test_filename[index[0][i]])\n",
    "    print(X_test_filename[index[0][i]])\n",
    "    \n",
    "print(len(wrong_predictions))"
   ]
  },
  {
   "cell_type": "code",
   "execution_count": null,
   "metadata": {},
   "outputs": [],
   "source": [
    "# 잘못 예측한거 plot\n",
    "for audio in wrong_predictions:\n",
    "    y, sr = librosa.load(audio, duration=1)  # 모두 1초까지만 자름\n",
    "    stft = np.abs(librosa.stft(y, n_fft=512, hop_length=384))   # 일반적으로 1/4 가량 겹치게 함\n",
    "    spectogram = np.abs(stft)\n",
    "    plt.figure(figsize=(10,5))\n",
    "    plt.title(audio)\n",
    "    plt.plot(spectogram) "
   ]
  },
  {
   "cell_type": "code",
   "execution_count": null,
   "metadata": {},
   "outputs": [],
   "source": [
    "# 잘못 예측한 오디오 파일들 모은 폴더 생성\n",
    "import shutil\n",
    "import os\n",
    " \n",
    "file_source = 'C:/Users/USER/Desktop/spcup_2022/audiofile/'\n",
    "file_destination = 'C:/Users/USER/Desktop/wrong_prediction'\n",
    " \n",
    "get_files = os.listdir(file_source)\n",
    " \n",
    "\n",
    "for i in range(len(wrong_predictions)):\n",
    "    print(wrong_predictions[i][43:])\n",
    "    for g in get_files:\n",
    "        if g == wrong_predictions[i][43:]:\n",
    "            shutil.move(file_source + g, file_destination)"
   ]
  }
 ],
 "metadata": {
  "kernelspec": {
   "display_name": "Python 3",
   "language": "python",
   "name": "python3"
  },
  "language_info": {
   "codemirror_mode": {
    "name": "ipython",
    "version": 3
   },
   "file_extension": ".py",
   "mimetype": "text/x-python",
   "name": "python",
   "nbconvert_exporter": "python",
   "pygments_lexer": "ipython3",
   "version": "3.8.5"
  }
 },
 "nbformat": 4,
 "nbformat_minor": 4
}
